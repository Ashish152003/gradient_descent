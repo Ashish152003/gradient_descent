{
 "cells": [
  {
   "cell_type": "code",
   "execution_count": 1,
   "id": "2d5e0a84-8da8-49dc-9bd5-186e3baa46a1",
   "metadata": {},
   "outputs": [
    {
     "name": "stdout",
     "output_type": "stream",
     "text": [
      "(442, 10)\n",
      "(442,)\n",
      "[  -9.15865318 -205.45432163  516.69374454  340.61999905 -895.5520019\n",
      "  561.22067904  153.89310954  126.73139688  861.12700152   52.42112238]\n",
      "151.88331005254167\n"
     ]
    },
    {
     "data": {
      "text/plain": [
       "0.4399338661568968"
      ]
     },
     "execution_count": 1,
     "metadata": {},
     "output_type": "execute_result"
    }
   ],
   "source": [
    "from sklearn.datasets import load_diabetes\n",
    "\n",
    "import numpy as np\n",
    "from sklearn.linear_model import LinearRegression\n",
    "from sklearn.metrics import r2_score\n",
    "from sklearn.model_selection import train_test_split\n",
    "import time\n",
    "\n",
    "X,y = load_diabetes(return_X_y=True)\n",
    "print(X.shape)\n",
    "print(y.shape)\n",
    "\n",
    "X_train,X_test,y_train,y_test = train_test_split(X,y,test_size=0.2,random_state=2)\n",
    "reg = LinearRegression()\n",
    "reg.fit(X_train,y_train)\n",
    "LinearRegression()\n",
    "print(reg.coef_)\n",
    "print(reg.intercept_)\n",
    "\n",
    "y_pred = reg.predict(X_test)\n",
    "r2_score(y_test,y_pred)"
   ]
  },
  {
   "cell_type": "code",
   "execution_count": 3,
   "id": "e4a6c7c4-0179-4572-b85f-be379ee30567",
   "metadata": {},
   "outputs": [],
   "source": [
    "class SGDRegressor:\n",
    "    \n",
    "    def __init__(self,learning_rate=0.01,epochs=100):\n",
    "        \n",
    "        self.coef_ = None\n",
    "        self.intercept_ = None\n",
    "        self.lr = learning_rate\n",
    "        self.epochs = epochs\n",
    "        \n",
    "    def fit(self,X_train,y_train):\n",
    "        # init your coefs\n",
    "        self.intercept_ = 0\n",
    "        self.coef_ = np.ones(X_train.shape[1])\n",
    "        \n",
    "        for i in range(self.epochs):\n",
    "            for j in range(X_train.shape[0]):\n",
    "                idx=np.random.randint(0,X_train.shape[0])\n",
    "                y_hat=np.dot(X_train[idx],self.coef_)+self.intercept_\n",
    "                intercept_der = -2*(y_train[idx]-y_hat)\n",
    "                self.intercept_=self.intercept_ - self.lr*intercept_der\n",
    "\n",
    "    \n",
    "                coef_der=-2*np.dot((y_train[idx]-y_hat),(X_train[idx]))\n",
    "                self.coef_=self.coef_ - self.lr*coef_der        \n",
    "        print(self.intercept_,self.coef_)\n",
    "    \n",
    "    def predict(self,X_test):\n",
    "        return np.dot(X_test,self.coef_) + self.intercept_"
   ]
  },
  {
   "cell_type": "code",
   "execution_count": 29,
   "id": "86f540bb-c440-44aa-8054-c92d9fe3ca72",
   "metadata": {},
   "outputs": [
    {
     "name": "stdout",
     "output_type": "stream",
     "text": [
      "156.361435196103 [  62.09836989  -59.08115406  360.49893156  248.39474126   19.47640221\n",
      "  -26.93181191 -171.38073276  130.59492681  321.3889423   132.74675483]\n"
     ]
    }
   ],
   "source": [
    "sgd = SGDRegressor(learning_rate=0.01,epochs=50)\n",
    "sgd.fit(X_train,y_train)\n",
    "y_pred=sgd.predict(X_test)"
   ]
  },
  {
   "cell_type": "code",
   "execution_count": 30,
   "id": "71b3ebf3-6419-42c1-85fb-b8042f051399",
   "metadata": {},
   "outputs": [
    {
     "data": {
      "text/plain": [
       "0.4288051130056568"
      ]
     },
     "execution_count": 30,
     "metadata": {},
     "output_type": "execute_result"
    }
   ],
   "source": [
    "r2_score(y_test,y_pred)"
   ]
  }
 ],
 "metadata": {
  "kernelspec": {
   "display_name": "Python 3 (ipykernel)",
   "language": "python",
   "name": "python3"
  },
  "language_info": {
   "codemirror_mode": {
    "name": "ipython",
    "version": 3
   },
   "file_extension": ".py",
   "mimetype": "text/x-python",
   "name": "python",
   "nbconvert_exporter": "python",
   "pygments_lexer": "ipython3",
   "version": "3.12.4"
  }
 },
 "nbformat": 4,
 "nbformat_minor": 5
}
